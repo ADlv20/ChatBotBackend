{
 "cells": [
  {
   "cell_type": "code",
   "execution_count": null,
   "metadata": {},
   "outputs": [],
   "source": []
  }
 ],
 "metadata": {
  "interpreter": {
   "hash": "7a3c9bfe1a8b1230954e69c9f46c5501847ad471779d8aa132773629c3c897e0"
  },
  "kernelspec": {
   "display_name": "Python 3.10.2 ('chatbotflask': venv)",
   "language": "python",
   "name": "python3"
  },
  "language_info": {
   "name": "python",
   "version": "3.10.2"
  },
  "orig_nbformat": 4
 },
 "nbformat": 4,
 "nbformat_minor": 2
}
